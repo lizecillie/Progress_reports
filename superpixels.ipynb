{
 "metadata": {
  "name": "superpixels"
 },
 "nbformat": 3,
 "nbformat_minor": 0,
 "worksheets": [
  {
   "cells": [
    {
     "cell_type": "code",
     "collapsed": false,
     "input": [
      "%pylab inline\n",
      "\n",
      "from skimage import io\n",
      "from skimage.segmentation import felzenszwalb, quickshift, slic, mark_boundaries\n",
      "\n",
      "import matplotlib.pyplot as plt"
     ],
     "language": "python",
     "metadata": {},
     "outputs": []
    },
    {
     "cell_type": "code",
     "collapsed": false,
     "input": [
      "image = io.imread('haai1.jpg')"
     ],
     "language": "python",
     "metadata": {},
     "outputs": []
    },
    {
     "cell_type": "code",
     "collapsed": false,
     "input": [
      "sp1 = felzenszwalb(image, scale=1, sigma=1, min_size=20)\n",
      "#plt.imshow(mark_boundaries(np.zeros_like(image), sp1, color=(1, 0, 0), outline_color=(0, 0, 0)))\n",
      "plt.imshow(sp1, cmap=plt.cm.spectral)"
     ],
     "language": "python",
     "metadata": {},
     "outputs": []
    },
    {
     "cell_type": "code",
     "collapsed": false,
     "input": [
      "from skimage.transform import rescale\n",
      "\n",
      "image_small = rescale(image, 0.2)\n",
      "\n",
      "sp2 = quickshift(image_small, ratio=1, kernel_size=5, max_dist=10, sigma=0, convert2lab=True)\n",
      "plt.imshow(sp2, cmap=plt.cm.spectral)"
     ],
     "language": "python",
     "metadata": {},
     "outputs": []
    },
    {
     "cell_type": "code",
     "collapsed": false,
     "input": [
      "sp3 = slic(image, n_segments=5, ratio=0.5, max_iter=10, sigma=1, convert2lab=True)\n",
      "plt.imshow(sp3, cmap=plt.cm.spectral, interpolation='nearest')"
     ],
     "language": "python",
     "metadata": {},
     "outputs": []
    },
    {
     "cell_type": "code",
     "collapsed": false,
     "input": [],
     "language": "python",
     "metadata": {},
     "outputs": []
    }
   ],
   "metadata": {}
  }
 ]
}